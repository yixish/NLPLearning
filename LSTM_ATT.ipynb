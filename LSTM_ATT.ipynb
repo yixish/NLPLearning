{
  "nbformat": 4,
  "nbformat_minor": 0,
  "metadata": {
    "colab": {
      "name": "LSTM_ATT.ipynb",
      "provenance": [],
      "toc_visible": true,
      "authorship_tag": "ABX9TyM9UrblpHxxNH/evwvsy54o",
      "include_colab_link": true
    },
    "kernelspec": {
      "name": "python3",
      "display_name": "Python 3"
    },
    "accelerator": "GPU"
  },
  "cells": [
    {
      "cell_type": "markdown",
      "metadata": {
        "id": "view-in-github",
        "colab_type": "text"
      },
      "source": [
        "<a href=\"https://colab.research.google.com/github/yixish/NLPLearning/blob/master/LSTM_ATT.ipynb\" target=\"_parent\"><img src=\"https://colab.research.google.com/assets/colab-badge.svg\" alt=\"Open In Colab\"/></a>"
      ]
    },
    {
      "cell_type": "code",
      "metadata": {
        "id": "_uXoTJWJs8DK",
        "colab": {
          "base_uri": "https://localhost:8080/"
        },
        "outputId": "b904720d-be13-48e5-820e-b0b39a6c1d5c"
      },
      "source": [
        "from google.colab import drive\n",
        "drive.mount('/content/gdrive')"
      ],
      "execution_count": null,
      "outputs": [
        {
          "output_type": "stream",
          "text": [
            "Mounted at /content/gdrive\n"
          ],
          "name": "stdout"
        }
      ]
    },
    {
      "cell_type": "code",
      "metadata": {
        "id": "mvx8QqDMtMSQ",
        "colab": {
          "base_uri": "https://localhost:8080/"
        },
        "outputId": "36322105-537e-4366-fff0-b8f9915a4b72"
      },
      "source": [
        "!/opt/bin/nvidia-smi"
      ],
      "execution_count": null,
      "outputs": [
        {
          "output_type": "stream",
          "text": [
            "Thu Oct 29 14:22:07 2020       \n",
            "+-----------------------------------------------------------------------------+\n",
            "| NVIDIA-SMI 418.67       Driver Version: 418.67       CUDA Version: 10.1     |\n",
            "|-------------------------------+----------------------+----------------------+\n",
            "| GPU  Name        Persistence-M| Bus-Id        Disp.A | Volatile Uncorr. ECC |\n",
            "| Fan  Temp  Perf  Pwr:Usage/Cap|         Memory-Usage | GPU-Util  Compute M. |\n",
            "|===============================+======================+======================|\n",
            "|   0  Tesla T4            Off  | 00000000:00:04.0 Off |                    0 |\n",
            "| N/A   46C    P8     9W /  70W |     10MiB / 15079MiB |      0%      Default |\n",
            "+-------------------------------+----------------------+----------------------+\n",
            "                                                                               \n",
            "+-----------------------------------------------------------------------------+\n",
            "| Processes:                                                       GPU Memory |\n",
            "|  GPU       PID   Type   Process name                             Usage      |\n",
            "|=============================================================================|\n",
            "|  No running processes found                                                 |\n",
            "+-----------------------------------------------------------------------------+\n"
          ],
          "name": "stdout"
        }
      ]
    },
    {
      "cell_type": "code",
      "metadata": {
        "id": "oPUTdGYGtT-u"
      },
      "source": [
        "import collections\n",
        "import os\n",
        "import random\n",
        "import time\n",
        "from tqdm import tqdm\n",
        "import torch\n",
        "from torch import nn\n",
        "import torchtext.vocab as Vocab\n",
        "import torch.utils.data as Data\n",
        "import torch.nn.functional as F\n",
        "device = torch.device('cuda' if torch.cuda.is_available() else 'cpu')"
      ],
      "execution_count": null,
      "outputs": []
    },
    {
      "cell_type": "code",
      "metadata": {
        "id": "vi_GYtfetUqC",
        "colab": {
          "base_uri": "https://localhost:8080/"
        },
        "outputId": "4651400e-b36c-4c49-85a3-1d8b1e565efa"
      },
      "source": [
        "import pandas as pd\n",
        "def read_hotel():\n",
        "    train_df =  pd.read_csv('/content/gdrive/My Drive/dataset/Hotel_rating/train.csv');\n",
        "    \n",
        "    keys =  list(train_df['review'].values)\n",
        "    vals =  list(train_df['rating'].values)\n",
        "    data = []\n",
        "    for i in range(len(keys)):\n",
        "        data.append([keys[i],vals[i]-1])\n",
        "    data_len = len(data)\n",
        "    return data[:int(data_len*0.8)],data[int(data_len*0.2):]\n",
        "\n",
        "train_data,test_data= read_hotel()\n",
        "\n",
        "# 打印训练数据中的前五个sample\n",
        "for sample in train_data[:5]:\n",
        "    print(sample[1], '\\t', sample[0][:50])"
      ],
      "execution_count": null,
      "outputs": [
        {
          "output_type": "stream",
          "text": [
            "3 \t good place stay check rainforest biobay vieques/cu\n",
            "4 \t great firstly did n't enjoy hong kong, 3 days quit\n",
            "3 \t clean convenient hotel catedral ideally located ke\n",
            "2 \t transport good class high excellent communications\n",
            "3 \t stay happy la quinta, used stay travelodge street \n"
          ],
          "name": "stdout"
        }
      ]
    },
    {
      "cell_type": "code",
      "metadata": {
        "id": "O-KX4GYFtWmp",
        "colab": {
          "base_uri": "https://localhost:8080/"
        },
        "outputId": "fcce1383-4121-4f4f-cfbe-2b58fb3f1a0b"
      },
      "source": [
        "def get_tokenized(data):\n",
        "    '''\n",
        "    @params:\n",
        "        data: 数据的列表，列表中的每个元素为 [文本字符串，0/1标签] 二元组\n",
        "    @return: 切分词后的文本的列表，列表中的每个元素为切分后的词序列\n",
        "    '''\n",
        "    def tokenizer(text):\n",
        "        return [tok.lower() for tok in text.split(' ')]\n",
        "    \n",
        "    return [tokenizer(review) for review, _ in data]\n",
        "\n",
        "def get_vocab(data):\n",
        "    '''\n",
        "    @params:\n",
        "        data: 同上\n",
        "    @return: 数据集上的词典，Vocab 的实例（freqs, stoi, itos）\n",
        "    '''\n",
        "    tokenized_data = get_tokenized(data)\n",
        "    counter = collections.Counter([tk for st in tokenized_data for tk in st])\n",
        "    return Vocab.Vocab(counter, min_freq=5)\n",
        "\n",
        "vocab = get_vocab(train_data)\n",
        "print('# words in vocab:', len(vocab))"
      ],
      "execution_count": null,
      "outputs": [
        {
          "output_type": "stream",
          "text": [
            "# words in vocab: 14914\n"
          ],
          "name": "stdout"
        }
      ]
    },
    {
      "cell_type": "code",
      "metadata": {
        "id": "S8K8ppDBtZKi"
      },
      "source": [
        "max_l = 500  # 将每条评论通过截断或者补0，使得长度变成500\n",
        "\n",
        "def preprocess(data, vocab):\n",
        "    '''\n",
        "    @params:\n",
        "        data: 同上，原始的读入数据\n",
        "        vocab: 训练集上生成的词典\n",
        "    @return:\n",
        "        features: 单词下标序列，形状为 (n, max_l) 的整数张量\n",
        "        labels: 情感标签，形状为 (n,) 的0/1整数张量\n",
        "    '''\n",
        " \n",
        "    def pad(x):\n",
        "        return x[:max_l] if len(x) > max_l else x + [0] * (max_l - len(x))\n",
        " \n",
        "    tokenized_data = get_tokenized(data)\n",
        "    features = torch.tensor([pad([vocab.stoi[word] for word in words]) for words in tokenized_data])\n",
        "    labels = torch.tensor([score for _, score in data])\n",
        "    return features, labels"
      ],
      "execution_count": null,
      "outputs": []
    },
    {
      "cell_type": "code",
      "metadata": {
        "id": "YMNRv0fctbac",
        "colab": {
          "base_uri": "https://localhost:8080/"
        },
        "outputId": "95a0f3ae-9e0a-4667-f6a3-c5f796f068fe"
      },
      "source": [
        "train_set = Data.TensorDataset(*preprocess(train_data, vocab))\n",
        "test_set = Data.TensorDataset(*preprocess(test_data, vocab))\n",
        "\n",
        "\n",
        "batch_size = 64\n",
        "train_iter = Data.DataLoader(train_set, batch_size, shuffle=True)\n",
        "test_iter = Data.DataLoader(test_set, batch_size)\n",
        "\n",
        "for X, y in train_iter:\n",
        "    print('X', X.shape, 'y', y.shape)\n",
        "    break\n",
        "print('#batches:', len(train_iter))"
      ],
      "execution_count": null,
      "outputs": [
        {
          "output_type": "stream",
          "text": [
            "torch.int64\n",
            "torch.int64\n",
            "X torch.Size([64, 500]) y torch.Size([64])\n",
            "#batches: 205\n"
          ],
          "name": "stdout"
        }
      ]
    },
    {
      "cell_type": "code",
      "metadata": {
        "id": "oHLGk2sotdnh"
      },
      "source": [
        "class LSTMATT(nn.Module):\n",
        "\n",
        "    def __init__(self,vocab, embedding_dim, output_dim, hidden_size, num_layers, bidirectional, dropout):\n",
        "        super(LSTMATT, self).__init__()\n",
        "        self.embedding = nn.Embedding(len(vocab), embedding_dim)\n",
        "        # self.embedding = nn.Embedding.from_pretrained(\n",
        "        #     pretrained_embeddings, freeze=False)\n",
        "        self.rnn = nn.LSTM(input_size=embedding_dim, hidden_size=hidden_size, num_layers=num_layers, bidirectional=bidirectional, dropout=dropout)\n",
        "\n",
        "        self.fc = nn.Linear(hidden_size * 2, output_dim)\n",
        "        self.dropout = nn.Dropout(dropout)\n",
        "        \n",
        "        self.W_w = nn.Parameter(torch.Tensor(hidden_size * 2, hidden_size * 2))\n",
        "        self.u_w = nn.Parameter(torch.Tensor(hidden_size * 2, 1))\n",
        "\n",
        "        nn.init.uniform_(self.W_w, -0.1, 0.1)\n",
        "        nn.init.uniform_(self.u_w, -0.1, 0.1)\n",
        "\n",
        "\n",
        "    def forward(self, x):\n",
        "        text = x.T\n",
        "        # text: [seq_len, batch_size]\n",
        "        # text_lengths : [batch_size]\n",
        "        embedded = self.dropout(self.embedding(text))\n",
        "        # embedded: [seq_len, batch size, emb_dim]\n",
        "\n",
        "        outputs, _ = self.rnn(embedded)\n",
        "        # hidden； [num_layers * bidirectional, batch_size, hidden_size]\n",
        "        # outputs: [real_seq_len, batch_size, hidden_size * 2]\n",
        "\n",
        "        outputs = outputs.permute(1, 0, 2)\n",
        "        # outputs: [batch_size, real_seq, hidden_size * 2]\n",
        "\n",
        "        \"\"\" tanh attention 的实现 \"\"\"\n",
        "        score = torch.tanh(torch.matmul(outputs, self.W_w))\n",
        "        # score: [batch_size, real_seq, hidden_size * 2]\n",
        "\n",
        "        attention_weights = F.softmax(torch.matmul(score, self.u_w), dim=1)\n",
        "        # attention_weights: [batch_size, real_seq, 1]\n",
        "\n",
        "        scored_x = outputs * attention_weights\n",
        "        # scored_x : [batch_size, real_seq, hidden_size * 2]\n",
        "\n",
        "        feat = torch.sum(scored_x, dim=1)\n",
        "        # feat : [batch_size, hidden_size * 2]\n",
        "\n",
        "        return self.fc(feat)"
      ],
      "execution_count": null,
      "outputs": []
    },
    {
      "cell_type": "code",
      "metadata": {
        "id": "Bp7RDa0ptjW9"
      },
      "source": [
        "embed_size, num_hiddens, num_layers = 100, 100, 2\n",
        "out_dim = 5\n",
        "model = LSTMATT(vocab,embed_size, out_dim,num_hiddens, num_layers,True,0.5)"
      ],
      "execution_count": null,
      "outputs": []
    },
    {
      "cell_type": "code",
      "metadata": {
        "id": "GEEb9wS8tnsO",
        "colab": {
          "base_uri": "https://localhost:8080/"
        },
        "outputId": "853684ad-7fbe-45b6-a058-41b787170246"
      },
      "source": [
        "cache_dir = \"/content/gdrive/My Drive/dataset/GloVe6B\"\n",
        "glove_vocab = Vocab.GloVe(name='6B', dim=100, cache=cache_dir)\n",
        "\n",
        "def load_pretrained_embedding(words, pretrained_vocab):\n",
        "    '''\n",
        "    @params:\n",
        "        words: 需要加载词向量的词语列表，以 itos (index to string) 的词典形式给出\n",
        "        pretrained_vocab: 预训练词向量\n",
        "    @return:\n",
        "        embed: 加载到的词向量\n",
        "    '''\n",
        "    embed = torch.zeros(len(words), pretrained_vocab.vectors[0].shape[0]) # 初始化为0\n",
        "    oov_count = 0 # out of vocabulary\n",
        "    for i, word in enumerate(words):\n",
        "        try:\n",
        "            idx = pretrained_vocab.stoi[word]\n",
        "            embed[i, :] = pretrained_vocab.vectors[idx]\n",
        "        except KeyError:\n",
        "            oov_count += 1\n",
        "    if oov_count > 0:\n",
        "        print(\"There are %d oov words.\" % oov_count)\n",
        "    return embed\n",
        "\n",
        "model.embedding.weight.data.copy_(load_pretrained_embedding(vocab.itos, glove_vocab))\n",
        "model.embedding.weight.requires_grad = False # 直接加载预训练好的, 所以不需要更新它"
      ],
      "execution_count": null,
      "outputs": [
        {
          "output_type": "stream",
          "text": [
            "There are 5139 oov words.\n"
          ],
          "name": "stdout"
        }
      ]
    },
    {
      "cell_type": "code",
      "metadata": {
        "id": "hD_l63Yut5jT"
      },
      "source": [
        "def evaluate_accuracy(data_iter, net, device=None):\n",
        "    if device is None and isinstance(net, torch.nn.Module):\n",
        "        device = list(net.parameters())[0].device \n",
        "    acc_sum, n = 0.0, 0\n",
        "    with torch.no_grad():\n",
        "        for X, y in data_iter:\n",
        "            if isinstance(net, torch.nn.Module):\n",
        "                net.eval()\n",
        "                acc_sum += (net(X.to(device)).argmax(dim=1) == y.to(device)).float().sum().cpu().item()\n",
        "                net.train()\n",
        "            else:\n",
        "                if('is_training' in net.__code__.co_varnames):\n",
        "                    acc_sum += (net(X, is_training=False).argmax(dim=1) == y).float().sum().item() \n",
        "                else:\n",
        "                    acc_sum += (net(X).argmax(dim=1) == y).float().sum().item() \n",
        "            n += y.shape[0]\n",
        "    return acc_sum / n\n",
        "\n",
        "def train(train_iter, test_iter, net, loss, optimizer, device, num_epochs):\n",
        "    net = net.to(device)\n",
        "    print(\"training on \", device)\n",
        "    batch_count = 0\n",
        "    for epoch in range(num_epochs):\n",
        "        train_l_sum, train_acc_sum, n, start = 0.0, 0.0, 0, time.time()\n",
        "        for X, y in train_iter:\n",
        "            X = X.to(device)\n",
        "            y = y.to(device)\n",
        "            y_hat = net(X)\n",
        "            l = loss(y_hat, y) \n",
        "            optimizer.zero_grad()\n",
        "            l.backward()\n",
        "            optimizer.step()\n",
        "            train_l_sum += l.cpu().item()\n",
        "            train_acc_sum += (y_hat.argmax(dim=1) == y).sum().cpu().item()\n",
        "            n += y.shape[0]\n",
        "            batch_count += 1\n",
        "        test_acc = evaluate_accuracy(test_iter, net)\n",
        "        print('epoch %d, loss %.4f, train acc %.3f, test acc %.3f, time %.1f sec'\n",
        "              % (epoch + 1, train_l_sum / batch_count, train_acc_sum / n, test_acc, time.time() - start))"
      ],
      "execution_count": null,
      "outputs": []
    },
    {
      "cell_type": "code",
      "metadata": {
        "id": "oc_9GIi4uDZd",
        "colab": {
          "base_uri": "https://localhost:8080/"
        },
        "outputId": "0c20a414-6e65-469f-acd8-4474f8a2ae72"
      },
      "source": [
        "lr, num_epochs = 0.01, 20\n",
        "optimizer = torch.optim.Adam(filter(lambda p: p.requires_grad, model.parameters()), lr=lr)\n",
        "loss = nn.CrossEntropyLoss()\n",
        "\n",
        "train(train_iter, test_iter, model, loss, optimizer, device, num_epochs)"
      ],
      "execution_count": null,
      "outputs": [
        {
          "output_type": "stream",
          "text": [
            "training on  cuda\n",
            "epoch 1, loss 1.1655, train acc 0.486, test acc 0.577, time 39.2 sec\n",
            "epoch 2, loss 0.4868, train acc 0.556, test acc 0.613, time 39.1 sec\n",
            "epoch 3, loss 0.3087, train acc 0.588, test acc 0.607, time 38.8 sec\n",
            "epoch 4, loss 0.2245, train acc 0.602, test acc 0.626, time 38.8 sec\n",
            "epoch 5, loss 0.1767, train acc 0.606, test acc 0.628, time 38.7 sec\n",
            "epoch 6, loss 0.1452, train acc 0.612, test acc 0.656, time 38.7 sec\n",
            "epoch 7, loss 0.1211, train acc 0.620, test acc 0.657, time 38.7 sec\n",
            "epoch 8, loss 0.1056, train acc 0.624, test acc 0.655, time 38.6 sec\n",
            "epoch 9, loss 0.0934, train acc 0.624, test acc 0.669, time 38.6 sec\n",
            "epoch 10, loss 0.0840, train acc 0.630, test acc 0.669, time 38.7 sec\n",
            "epoch 11, loss 0.0749, train acc 0.633, test acc 0.679, time 38.7 sec\n",
            "epoch 12, loss 0.0691, train acc 0.631, test acc 0.672, time 38.7 sec\n",
            "epoch 13, loss 0.0634, train acc 0.635, test acc 0.671, time 38.6 sec\n",
            "epoch 14, loss 0.0592, train acc 0.630, test acc 0.671, time 38.6 sec\n",
            "epoch 15, loss 0.0550, train acc 0.634, test acc 0.670, time 38.6 sec\n",
            "epoch 16, loss 0.0512, train acc 0.638, test acc 0.677, time 38.6 sec\n",
            "epoch 17, loss 0.0485, train acc 0.636, test acc 0.673, time 38.5 sec\n",
            "epoch 18, loss 0.0455, train acc 0.636, test acc 0.678, time 38.5 sec\n",
            "epoch 19, loss 0.0429, train acc 0.637, test acc 0.677, time 38.5 sec\n",
            "epoch 20, loss 0.0406, train acc 0.639, test acc 0.674, time 38.5 sec\n"
          ],
          "name": "stdout"
        }
      ]
    },
    {
      "cell_type": "code",
      "metadata": {
        "id": "9YChqG-ruLDV"
      },
      "source": [
        "def predict_sentiment(net, vocab, sentence):\n",
        "    '''\n",
        "    @params：\n",
        "        net: 训练好的模型\n",
        "        vocab: 在该数据集上创建的词典，用于将给定的单词序转换为单词下标的序列，从而输入模型\n",
        "        sentence: 需要分析情感的文本，以单词序列的形式给出\n",
        "    @return: 预测的结果，positive 为正面情绪文本，negative 为负面情绪文本\n",
        "    '''\n",
        "    if len(sentence)>=max_l:\n",
        "        sentence = sentence[:max_l]\n",
        "    device = list(net.parameters())[0].device # 读取模型所在的环境\n",
        "    sentence = torch.tensor([vocab.stoi[word] for word in sentence], device=device)\n",
        "    label = torch.argmax(net(sentence.view((1, -1))), dim=1)\n",
        "    return label.item()+1\n"
      ],
      "execution_count": null,
      "outputs": []
    },
    {
      "cell_type": "code",
      "metadata": {
        "id": "lGnQmL2P5mz7",
        "colab": {
          "base_uri": "https://localhost:8080/",
          "height": 297
        },
        "outputId": "18f47f64-30ac-4b18-a4ac-8755b699c5bc"
      },
      "source": [
        "test_df =  pd.read_csv('/content/gdrive/My Drive/dataset/Hotel_rating/test.csv');\n",
        "reviews =  list(test_df['review'].values)\n",
        "test_df['rating'] = test_df['review'].map(lambda x: predict_sentiment(model,vocab,x.split()))\n",
        "test_df.describe()"
      ],
      "execution_count": null,
      "outputs": [
        {
          "output_type": "execute_result",
          "data": {
            "text/html": [
              "<div>\n",
              "<style scoped>\n",
              "    .dataframe tbody tr th:only-of-type {\n",
              "        vertical-align: middle;\n",
              "    }\n",
              "\n",
              "    .dataframe tbody tr th {\n",
              "        vertical-align: top;\n",
              "    }\n",
              "\n",
              "    .dataframe thead th {\n",
              "        text-align: right;\n",
              "    }\n",
              "</style>\n",
              "<table border=\"1\" class=\"dataframe\">\n",
              "  <thead>\n",
              "    <tr style=\"text-align: right;\">\n",
              "      <th></th>\n",
              "      <th>id</th>\n",
              "      <th>rating</th>\n",
              "    </tr>\n",
              "  </thead>\n",
              "  <tbody>\n",
              "    <tr>\n",
              "      <th>count</th>\n",
              "      <td>4099.000000</td>\n",
              "      <td>4099.000000</td>\n",
              "    </tr>\n",
              "    <tr>\n",
              "      <th>mean</th>\n",
              "      <td>2049.000000</td>\n",
              "      <td>4.013174</td>\n",
              "    </tr>\n",
              "    <tr>\n",
              "      <th>std</th>\n",
              "      <td>1183.423705</td>\n",
              "      <td>1.211150</td>\n",
              "    </tr>\n",
              "    <tr>\n",
              "      <th>min</th>\n",
              "      <td>0.000000</td>\n",
              "      <td>1.000000</td>\n",
              "    </tr>\n",
              "    <tr>\n",
              "      <th>25%</th>\n",
              "      <td>1024.500000</td>\n",
              "      <td>4.000000</td>\n",
              "    </tr>\n",
              "    <tr>\n",
              "      <th>50%</th>\n",
              "      <td>2049.000000</td>\n",
              "      <td>4.000000</td>\n",
              "    </tr>\n",
              "    <tr>\n",
              "      <th>75%</th>\n",
              "      <td>3073.500000</td>\n",
              "      <td>5.000000</td>\n",
              "    </tr>\n",
              "    <tr>\n",
              "      <th>max</th>\n",
              "      <td>4098.000000</td>\n",
              "      <td>5.000000</td>\n",
              "    </tr>\n",
              "  </tbody>\n",
              "</table>\n",
              "</div>"
            ],
            "text/plain": [
              "                id       rating\n",
              "count  4099.000000  4099.000000\n",
              "mean   2049.000000     4.013174\n",
              "std    1183.423705     1.211150\n",
              "min       0.000000     1.000000\n",
              "25%    1024.500000     4.000000\n",
              "50%    2049.000000     4.000000\n",
              "75%    3073.500000     5.000000\n",
              "max    4098.000000     5.000000"
            ]
          },
          "metadata": {
            "tags": []
          },
          "execution_count": 15
        }
      ]
    },
    {
      "cell_type": "code",
      "metadata": {
        "id": "Q0xhIW5N5nrR"
      },
      "source": [
        "test_df = test_df.drop('review',axis =1 )\n",
        "test_df.to_csv('/content/gdrive/My Drive/dataset/sub.csv', header=None,index=False)  "
      ],
      "execution_count": null,
      "outputs": []
    },
    {
      "cell_type": "code",
      "metadata": {
        "id": "AuI9oQ0A5zv7"
      },
      "source": [
        ""
      ],
      "execution_count": null,
      "outputs": []
    }
  ]
}